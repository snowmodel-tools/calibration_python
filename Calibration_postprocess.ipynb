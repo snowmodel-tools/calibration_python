{
 "cells": [
  {
   "cell_type": "code",
   "execution_count": null,
   "metadata": {},
   "outputs": [],
   "source": [
    "# Import all of the python packages used in this workflow.\n",
    "import scipy\n",
    "import numpy as np\n",
    "from collections import OrderedDict\n",
    "import matplotlib.pyplot as plt\n",
    "import os, sys\n",
    "from pylab import *\n",
    "import pandas as pd\n",
    "import numpy as np\n",
    "import osr\n",
    "import xarray as xr\n",
    "import matplotlib.pyplot as plt\n",
    "import matplotlib.colors as colors\n",
    "from matplotlib.ticker import FormatStrFormatter\n",
    "import geopandas as gpd\n",
    "from datetime import datetime\n",
    "from datetime import timedelta  \n",
    "import json"
   ]
  },
  {
   "cell_type": "code",
   "execution_count": null,
   "metadata": {},
   "outputs": [],
   "source": [
    "gdf = gpd.read_file('../CSO_SNOTEL_sites.geojson')\n",
    "df = pd.read_csv('../CSO_SNOTEL_data_SWEDmeters.csv') \n",
    "gdf.head()"
   ]
  },
  {
   "cell_type": "code",
   "execution_count": null,
   "metadata": {},
   "outputs": [],
   "source": [
    "data = xr.open_dataset('calibration_test1.nc')\n",
    "data"
   ]
  },
  {
   "cell_type": "code",
   "execution_count": null,
   "metadata": {},
   "outputs": [],
   "source": [
    "with open('par_base.json') as f:\n",
    "    calibration = json.load(f)\n",
    "    \n",
    "calibration.keys()"
   ]
  },
  {
   "cell_type": "code",
   "execution_count": null,
   "metadata": {},
   "outputs": [],
   "source": [
    "NSE = data.cal_metrics.loc[:,\"NSE\",:]\n",
    "nse_top = np.amax(ds_read.cal_metrics.loc[:,\"NSE\",:],axis = 0)\n",
    "KGE = data.cal_metrics.loc[:,\"KGE\",:]\n",
    "kge_top = np.amax(ds_read.cal_metrics.loc[:,\"KGE\",:],axis = 0)\n",
    "RMSE = data.cal_metrics.loc[:,\"RMSE\",:]\n",
    "rmse_top = np.amin(ds_read.cal_metrics.loc[:,\"RMSE\",:],axis = 0)\n",
    "MAE = data.cal_metrics.loc[:,\"MAE\",:]\n",
    "mae_top = np.amin(ds_read.cal_metrics.loc[:,\"MAE\",:],axis = 0)\n",
    "MBE = data.cal_metrics.loc[:,\"MBE\",:]\n",
    "mbe_top = np.amin(ds_read.cal_metrics.loc[:,\"MBE\",:],axis = 0)"
   ]
  },
  {
   "cell_type": "code",
   "execution_count": null,
   "metadata": {},
   "outputs": [],
   "source": [
    "station = gdf['code'].values\n",
    "\n",
    "index = {}\n",
    "for i in range(np.shape(gdf)[0]):\n",
    "    nam = station[i]\n",
    "    station_met={}\n",
    "    station_met['NSE'] = np.where(NSE[:,i]==nse_top[i])\n",
    "    station_met['KGE'] = np.where(KGE[:,i]==kge_top[i])\n",
    "    station_met['RMSE'] = np.where(RMSE[:,i]==rmse_top[i])\n",
    "    station_met['MAE'] = np.where(MAE[:,i]==mae_top[i])\n",
    "    station_met['MBE'] = np.where(MBE[:,i]==mbe_top[i])\n",
    "    #print(station_met)\n",
    "    index[nam]=station_met\n",
    "print(index.keys())"
   ]
  }
 ],
 "metadata": {
  "kernelspec": {
   "display_name": "Python [conda env:snowmodelcal]",
   "language": "python",
   "name": "conda-env-snowmodelcal-py"
  },
  "language_info": {
   "codemirror_mode": {
    "name": "ipython",
    "version": 3
   },
   "file_extension": ".py",
   "mimetype": "text/x-python",
   "name": "python",
   "nbconvert_exporter": "python",
   "pygments_lexer": "ipython3",
   "version": "3.6.10"
  }
 },
 "nbformat": 4,
 "nbformat_minor": 4
}
