{
 "cells": [
  {
   "cell_type": "code",
   "execution_count": 17,
   "metadata": {},
   "outputs": [],
   "source": [
    "import json\n",
    "import numpy as np\n",
    "\n",
    "parFile = '/nfs/attic/dfh/Aragon2/mar2020_snowmodel-dfhill/snowmodel.par'\n",
    "#Edit the par file to set parameters with new values\n",
    "def edit_par(par_dict,parameter,new_value):\n",
    "    lines = open(parFile, 'r').readlines()\n",
    "    if par_dict[parameter][2] == 14 or par_dict[parameter][2] == 17 \\\n",
    "    or par_dict[parameter][2] == 18 or par_dict[parameter][2] == 19 \\\n",
    "    or par_dict[parameter][2] == 93 or par_dict[parameter][2] == 95 \\\n",
    "    or par_dict[parameter][2] == 97 or par_dict[parameter][2] == 100 \\\n",
    "    or par_dict[parameter][2] == 102 or par_dict[parameter][2] == 104 \\\n",
    "    or par_dict[parameter][2] == 107 or par_dict[parameter][2] == 108:\n",
    "        text = str(new_value)+'\\n'\n",
    "    else:\n",
    "        text = str(new_value)+'\\t\\t\\t!'+par_dict[parameter][1]\n",
    "    lines[par_dict[parameter][2]] = text\n",
    "    out = open(parFile, 'w')\n",
    "    out.writelines(lines)\n",
    "    out.close()"
   ]
  },
  {
   "cell_type": "code",
   "execution_count": 4,
   "metadata": {},
   "outputs": [],
   "source": [
    "with open('par_base.json') as f:\n",
    "    base = json.load(f)"
   ]
  },
  {
   "cell_type": "code",
   "execution_count": 13,
   "metadata": {},
   "outputs": [],
   "source": [
    "for key in base:\n",
    "    edit_par(base,key,base[key][0])"
   ]
  },
  {
   "cell_type": "code",
   "execution_count": 18,
   "metadata": {},
   "outputs": [
    {
     "ename": "NameError",
     "evalue": "name 'gdf' is not defined",
     "output_type": "error",
     "traceback": [
      "\u001b[0;31m---------------------------------------------------------------------------\u001b[0m",
      "\u001b[0;31mNameError\u001b[0m                                 Traceback (most recent call last)",
      "\u001b[0;32m<ipython-input-18-23dbe6b2d4ed>\u001b[0m in \u001b[0;36m<module>\u001b[0;34m\u001b[0m\n\u001b[1;32m      1\u001b[0m \u001b[0;31m#edit snowmodel.par\u001b[0m\u001b[0;34m\u001b[0m\u001b[0;34m\u001b[0m\u001b[0;34m\u001b[0m\u001b[0m\n\u001b[0;32m----> 2\u001b[0;31m \u001b[0medit_par\u001b[0m\u001b[0;34m(\u001b[0m\u001b[0mbase\u001b[0m\u001b[0;34m,\u001b[0m\u001b[0;34m'nx'\u001b[0m\u001b[0;34m,\u001b[0m\u001b[0mnp\u001b[0m\u001b[0;34m.\u001b[0m\u001b[0mshape\u001b[0m\u001b[0;34m(\u001b[0m\u001b[0mgdf\u001b[0m\u001b[0;34m)\u001b[0m\u001b[0;34m[\u001b[0m\u001b[0;36m0\u001b[0m\u001b[0;34m]\u001b[0m\u001b[0;34m)\u001b[0m\u001b[0;34m\u001b[0m\u001b[0;34m\u001b[0m\u001b[0m\n\u001b[0m\u001b[1;32m      3\u001b[0m \u001b[0medit_par\u001b[0m\u001b[0;34m(\u001b[0m\u001b[0mbase\u001b[0m\u001b[0;34m,\u001b[0m\u001b[0;34m'ny'\u001b[0m\u001b[0;34m,\u001b[0m\u001b[0;36m1\u001b[0m\u001b[0;34m)\u001b[0m\u001b[0;34m\u001b[0m\u001b[0;34m\u001b[0m\u001b[0m\n\u001b[1;32m      4\u001b[0m \u001b[0medit_par\u001b[0m\u001b[0;34m(\u001b[0m\u001b[0mbase\u001b[0m\u001b[0;34m,\u001b[0m\u001b[0;34m'xmn'\u001b[0m\u001b[0;34m,\u001b[0m\u001b[0;36m487200\u001b[0m\u001b[0;34m)\u001b[0m\u001b[0;34m\u001b[0m\u001b[0;34m\u001b[0m\u001b[0m\n\u001b[1;32m      5\u001b[0m \u001b[0medit_par\u001b[0m\u001b[0;34m(\u001b[0m\u001b[0mbase\u001b[0m\u001b[0;34m,\u001b[0m\u001b[0;34m'ymn'\u001b[0m\u001b[0;34m,\u001b[0m\u001b[0;36m4690100\u001b[0m\u001b[0;34m)\u001b[0m\u001b[0;34m\u001b[0m\u001b[0;34m\u001b[0m\u001b[0m\n",
      "\u001b[0;31mNameError\u001b[0m: name 'gdf' is not defined"
     ]
    }
   ],
   "source": [
    "#edit snowmodel.par\n",
    "edit_par(base,'nx',np.shape(gdf)[0])\n",
    "edit_par(base,'ny',1)\n",
    "edit_par(base,'xmn',487200)\n",
    "edit_par(base,'ymn',4690100)\n",
    "edit_par(base,'dt',21600)\n",
    "edit_par(base,'iyear_init',2014)\n",
    "edit_par(base,'imonth_init',10)\n",
    "edit_par(base,'iday_init',1)\n",
    "edit_par(base,'xhour_init',0)\n",
    "edit_par(base,'max_iter',7300)\n",
    "edit_par(base,'met_input_fname','met/mm_wy_2014-2019.dat')\n",
    "edit_par(base,'ascii_topoveg',1)\n",
    "edit_par(base,'topo_ascii_fname','topo_vege/DEM_WY.asc')\n",
    "edit_par(base,'veg_ascii_fname','topo_vege/NLCD2016_WY.asc')\n",
    "edit_par(base,'xlat',40.2)\n",
    "edit_par(base,'run_snowtran',0)\n",
    "edit_par(base,'barnes_lg_domain',1)\n",
    "edit_par(base,'snowmodel_line_flag',1)\n",
    "edit_par(base,'lapse_rate','.28,1.2,2.8,4.2,4.5,4.4,4.0,3.8,3.7,3.4,2.6,0.87')#\n",
    "edit_par(base,'prec_lapse_rate','0.4,0.4,0.46,0.41,0.27,0.24,0.21,0.17,0.22,0.32,0.43,0.39')#\n",
    "edit_par(base,'print_inc',4)\n",
    "edit_par(base,'print_var_01','y')\n",
    "edit_par(base,'print_var_09','y')\n",
    "edit_par(base,'print_var_10','y')\n",
    "edit_par(base,'print_var_11','y')\n",
    "edit_par(base,'print_var_12','y')\n",
    "edit_par(base,'print_var_14','y')\n",
    "edit_par(base,'print_var_18','y')\n",
    "edit_par(base,'snowfall_frac',3)"
   ]
  },
  {
   "cell_type": "code",
   "execution_count": null,
   "metadata": {},
   "outputs": [],
   "source": []
  }
 ],
 "metadata": {
  "kernelspec": {
   "display_name": "Python [conda env:snowmodelcal]",
   "language": "python",
   "name": "conda-env-snowmodelcal-py"
  },
  "language_info": {
   "codemirror_mode": {
    "name": "ipython",
    "version": 3
   },
   "file_extension": ".py",
   "mimetype": "text/x-python",
   "name": "python",
   "nbconvert_exporter": "python",
   "pygments_lexer": "ipython3",
   "version": "3.6.10"
  }
 },
 "nbformat": 4,
 "nbformat_minor": 4
}
