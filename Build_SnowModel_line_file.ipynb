{
 "cells": [
  {
   "cell_type": "code",
   "execution_count": 1,
   "metadata": {},
   "outputs": [],
   "source": [
    "import numpy as np\n",
    "import geopandas as gpd"
   ]
  },
  {
   "cell_type": "code",
   "execution_count": 3,
   "metadata": {},
   "outputs": [],
   "source": [
    "#path to DEM ascii \n",
    "DEMpath = '/nfs/attic/dfh/Aragon2/sm_4/topo_vege/DEM_WY.asc'\n",
    "\n",
    "# first run the get_SNOTEL notebook to find all of the stations within the modeling domain\n",
    "# this will save lat lon coordinates of stations to projected cordinates that match the DEM\n",
    "stn_gdf = gpd.read_file(\"../CSO_SNOTEL_sites.geojson\")"
   ]
  },
  {
   "cell_type": "code",
   "execution_count": 4,
   "metadata": {},
   "outputs": [],
   "source": [
    "def getmeta(file_name):\n",
    "    myvars = {}\n",
    "    lines = open(file_name, 'r').readlines()\n",
    "    for i in range(5):\n",
    "        line=lines[i]\n",
    "        name, var = line.partition(\"\\t\")[::2]\n",
    "        myvars[name.strip()] = int(var)\n",
    "    return myvars"
   ]
  },
  {
   "cell_type": "code",
   "execution_count": 5,
   "metadata": {},
   "outputs": [
    {
     "data": {
      "text/plain": [
       "{'ncols': 1382,\n",
       " 'nrows': 2476,\n",
       " 'xllcorner': 487200,\n",
       " 'yllcorner': 4690100,\n",
       " 'cellsize': 100}"
      ]
     },
     "execution_count": 5,
     "metadata": {},
     "output_type": "execute_result"
    }
   ],
   "source": [
    "myvars = getmeta(DEMpath)\n",
    "myvars"
   ]
  },
  {
   "cell_type": "code",
   "execution_count": 6,
   "metadata": {},
   "outputs": [],
   "source": [
    "#Build northing easting array \n",
    "#Northing\n",
    "# locate center of lower left cell\n",
    "st = myvars['yllcorner']+(myvars['cellsize']/2)\n",
    "#build northing array\n",
    "north = np.flip(np.arange(st,st+myvars['nrows']*myvars['cellsize'],myvars['cellsize']),0)\n",
    "\n",
    "#Easting\n",
    "# locate center of lower left cell\n",
    "st = myvars['xllcorner']+(myvars['cellsize']/2)\n",
    "#build easting array\n",
    "east = np.arange(st,st+myvars['ncols']*myvars['cellsize'],myvars['cellsize'])"
   ]
  },
  {
   "cell_type": "code",
   "execution_count": 7,
   "metadata": {},
   "outputs": [],
   "source": [
    "#fortran indexing starts at 1\n",
    "#staion 1 to N of N stations\n",
    "count = np.zeros(stn_gdf.shape[0])\n",
    "#easting of pixel corresponding to station \n",
    "stn_est = np.zeros(stn_gdf.shape[0])\n",
    "#northing of pixel corresponding to station\n",
    "stn_nor = np.zeros(stn_gdf.shape[0])\n",
    "#index of pixel corresponding to station \n",
    "est_idx = np.zeros(stn_gdf.shape[0])\n",
    "#index of pixel corresponding to station \n",
    "nor_idx = np.zeros(stn_gdf.shape[0])\n",
    "\n",
    "for z in range(stn_gdf.shape[0]):\n",
    "    count[z] = z + 1\n",
    "    lons = abs(stn_gdf.easting[z]-east)\n",
    "    loIDX = [i for i, value in enumerate(lons) if value == np.min(abs(stn_gdf.easting[z]-east))] \n",
    "    stn_est[z] = east[loIDX[0]]\n",
    "    est_idx[z] = loIDX[0] + 1\n",
    "    lats = abs(stn_gdf.northing[z]-north)\n",
    "    laIDX = [i for i, value in enumerate(lats) if value == np.min(abs(stn_gdf.northing[z]-north))]\n",
    "    stn_nor[z] = north[laIDX[0]]\n",
    "    nor_idx[z] = laIDX[0] + 1"
   ]
  },
  {
   "cell_type": "code",
   "execution_count": 7,
   "metadata": {},
   "outputs": [
    {
     "name": "stdout",
     "output_type": "stream",
     "text": [
      "[ 1.  2.  3.  4.  5.  6.  7.  8.  9. 10. 11. 12. 13. 14. 15. 16. 17. 18.\n",
      " 19. 20. 21. 22. 23. 24. 25. 26. 27. 28. 29. 30.]\n"
     ]
    }
   ],
   "source": [
    "print(count)"
   ]
  },
  {
   "cell_type": "code",
   "execution_count": 8,
   "metadata": {},
   "outputs": [],
   "source": [
    "#Print out .dat file \n",
    "#move this file to extra_met directory in SnowModel code\n",
    "#https://pyformat.info/\n",
    "f= open(\"snowmodel_line_pts.dat\",\"w+\")\n",
    "for z in range(count.shape[0]):\n",
    "    f.write('{:08.0f}\\t'.format(count[z])+'{:10.0f}\\t'.format(est_idx[z])+'{:10.0f}\\t'.format(nor_idx[z])+\n",
    "            '{:10.0f}\\t'.format(stn_est[z])+'{:10.0f}\\t\\n'.format(stn_nor[z]))\n",
    "f.close() "
   ]
  },
  {
   "cell_type": "code",
   "execution_count": null,
   "metadata": {},
   "outputs": [],
   "source": []
  }
 ],
 "metadata": {
  "kernelspec": {
   "display_name": "Python [conda env:snowmodelcal]",
   "language": "python",
   "name": "conda-env-snowmodelcal-py"
  },
  "language_info": {
   "codemirror_mode": {
    "name": "ipython",
    "version": 3
   },
   "file_extension": ".py",
   "mimetype": "text/x-python",
   "name": "python",
   "nbconvert_exporter": "python",
   "pygments_lexer": "ipython3",
   "version": "3.6.10"
  }
 },
 "nbformat": 4,
 "nbformat_minor": 4
}
