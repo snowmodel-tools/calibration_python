{
 "cells": [
  {
   "cell_type": "code",
   "execution_count": 84,
   "metadata": {},
   "outputs": [],
   "source": [
    "parFile = '/nfs/attic/dfh/Aragon2/mar2020_snowmodel-dfhill_code_edits/snowmodel_copy_2.par'"
   ]
  },
  {
   "cell_type": "code",
   "execution_count": 85,
   "metadata": {},
   "outputs": [
    {
     "name": "stdout",
     "output_type": "stream",
     "text": [
      "['30', 'nx - grid cells in east/west direction\\n', 1]\n"
     ]
    }
   ],
   "source": [
    "#create dictionay with values from text file - may want to use for calibration\n",
    "def getparams(file_name):\n",
    "    myvars = {}\n",
    "    lines = open(file_name, 'r').readlines()\n",
    "    for i in range(len(lines)):\n",
    "        line=lines[i]\n",
    "        var, name = line.partition(\"!\")[::2]\n",
    "        #create a dictionary with the variable name as the key for the \n",
    "        #[model value, parFile text, linenumber]\n",
    "        myvars[name.split()[0]] = [var.strip(),name,i+1]\n",
    "    return myvars\n",
    "base = getparams(parFile)\n",
    "#print(base)\n",
    "print(base['nx'])"
   ]
  },
  {
   "cell_type": "code",
   "execution_count": 78,
   "metadata": {},
   "outputs": [],
   "source": [
    "#likely a way to do this with a dictionary \n",
    "def edit_par(par_dict,parameter,new_value):\n",
    "    lines = open(parFile, 'r').readlines()\n",
    "    text = str(new_value)+'\\t\\t\\t!'+par_dict[parameter][1]\n",
    "    lines[par_dict[parameter][2]-1] = text\n",
    "    out = open(parFile, 'w')\n",
    "    out.writelines(lines)\n",
    "    out.close()"
   ]
  },
  {
   "cell_type": "code",
   "execution_count": 80,
   "metadata": {},
   "outputs": [],
   "source": [
    "edit_par(base,'ny',1000)"
   ]
  },
  {
   "cell_type": "code",
   "execution_count": null,
   "metadata": {},
   "outputs": [],
   "source": []
  }
 ],
 "metadata": {
  "kernelspec": {
   "display_name": "Python [conda env:snowmodelcal]",
   "language": "python",
   "name": "conda-env-snowmodelcal-py"
  },
  "language_info": {
   "codemirror_mode": {
    "name": "ipython",
    "version": 3
   },
   "file_extension": ".py",
   "mimetype": "text/x-python",
   "name": "python",
   "nbconvert_exporter": "python",
   "pygments_lexer": "ipython3",
   "version": "3.6.10"
  }
 },
 "nbformat": 4,
 "nbformat_minor": 4
}
